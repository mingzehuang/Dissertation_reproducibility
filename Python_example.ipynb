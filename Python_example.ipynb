{
 "cells": [
  {
   "cell_type": "code",
   "execution_count": 6,
   "metadata": {},
   "outputs": [],
   "source": [
    "from latentcor import gen_data, get_tps, latentcor\n",
    "\n",
    "simdata = gen_data(n = 100, tps = [\"ter\", \"con\"])\n"
   ]
  },
  {
   "cell_type": "code",
   "execution_count": 19,
   "metadata": {},
   "outputs": [
    {
     "data": {
      "text/plain": [
       "2"
      ]
     },
     "execution_count": 19,
     "metadata": {},
     "output_type": "execute_result"
    }
   ],
   "source": [
    "len(simdata)"
   ]
  },
  {
   "cell_type": "code",
   "execution_count": 18,
   "metadata": {},
   "outputs": [
    {
     "name": "stdout",
     "output_type": "stream",
     "text": [
      "[[ 0.          0.68088886]\n",
      " [ 1.          0.47896992]\n",
      " [ 2.         -0.37850301]\n",
      " [ 1.         -0.62665999]\n",
      " [ 1.          1.44224998]\n",
      " [ 1.         -0.94451815]]\n"
     ]
    }
   ],
   "source": [
    "print(simdata[0][ : 6, : ])"
   ]
  },
  {
   "cell_type": "code",
   "execution_count": 20,
   "metadata": {},
   "outputs": [
    {
     "name": "stdout",
     "output_type": "stream",
     "text": [
      "None\n"
     ]
    }
   ],
   "source": [
    "print(simdata[1])"
   ]
  },
  {
   "cell_type": "code",
   "execution_count": 22,
   "metadata": {},
   "outputs": [],
   "source": [
    "estimate = latentcor(simdata[0], tps = [\"ter\", \"con\"])"
   ]
  },
  {
   "cell_type": "code",
   "execution_count": 23,
   "metadata": {},
   "outputs": [
    {
     "data": {
      "text/plain": [
       "5"
      ]
     },
     "execution_count": 23,
     "metadata": {},
     "output_type": "execute_result"
    }
   ],
   "source": [
    "len(estimate)"
   ]
  },
  {
   "cell_type": "code",
   "execution_count": 26,
   "metadata": {},
   "outputs": [
    {
     "data": {
      "text/plain": [
       "array([[0.3, nan],\n",
       "       [0.8, nan]])"
      ]
     },
     "execution_count": 26,
     "metadata": {},
     "output_type": "execute_result"
    }
   ],
   "source": [
    "estimate[4]"
   ]
  },
  {
   "cell_type": "code",
   "execution_count": 27,
   "metadata": {},
   "outputs": [
    {
     "data": {
      "text/plain": [
       "array([[1.        , 0.24646464],\n",
       "       [0.24646464, 1.        ]], dtype=float32)"
      ]
     },
     "execution_count": 27,
     "metadata": {},
     "output_type": "execute_result"
    }
   ],
   "source": [
    "estimate[3]"
   ]
  },
  {
   "cell_type": "code",
   "execution_count": 28,
   "metadata": {},
   "outputs": [
    {
     "data": {
      "text/plain": [
       "array([[1.        , 0.44928735],\n",
       "       [0.44928735, 1.        ]], dtype=float32)"
      ]
     },
     "execution_count": 28,
     "metadata": {},
     "output_type": "execute_result"
    }
   ],
   "source": [
    "estimate[1]"
   ]
  },
  {
   "cell_type": "code",
   "execution_count": 29,
   "metadata": {},
   "outputs": [
    {
     "data": {
      "text/plain": [
       "array([[1.        , 0.44883807],\n",
       "       [0.44883807, 1.        ]])"
      ]
     },
     "execution_count": 29,
     "metadata": {},
     "output_type": "execute_result"
    }
   ],
   "source": [
    "estimate[0]"
   ]
  },
  {
   "cell_type": "code",
   "execution_count": 35,
   "metadata": {},
   "outputs": [],
   "source": [
    "estimate[2]"
   ]
  },
  {
   "cell_type": "code",
   "execution_count": 2,
   "metadata": {},
   "outputs": [],
   "source": [
    "import numpy as np\n",
    "import pandas as pd\n",
    "from pyreadr import read_r"
   ]
  },
  {
   "cell_type": "code",
   "execution_count": 3,
   "metadata": {},
   "outputs": [],
   "source": [
    "housing = read_r('housing.rdata')['housing']"
   ]
  },
  {
   "cell_type": "code",
   "execution_count": 4,
   "metadata": {},
   "outputs": [
    {
     "name": "stdout",
     "output_type": "stream",
     "text": [
      "    price lotsize bedrooms bathrms stories driveway recroom fullbase gashw  \\\n",
      "1   42000    5850        3       1       2      yes      no      yes    no   \n",
      "2   38500    4000        2       1       1      yes      no       no    no   \n",
      "3   49500    3060        3       1       1      yes      no       no    no   \n",
      "4   60500    6650        3       1       2      yes     yes       no    no   \n",
      "5   61000    6360        2       1       1      yes      no       no    no   \n",
      "6   66000    4160        3       1       1      yes     yes      yes    no   \n",
      "\n",
      "  airco garagepl prefarea  \n",
      "1    no        1       no  \n",
      "2    no        0       no  \n",
      "3    no        0       no  \n",
      "4    no        0       no  \n",
      "5    no        0       no  \n",
      "6   yes        0       no  \n"
     ]
    }
   ],
   "source": [
    "print(housing.iloc[ :6, : ])"
   ]
  },
  {
   "cell_type": "code",
   "execution_count": 12,
   "metadata": {},
   "outputs": [
    {
     "name": "stdout",
     "output_type": "stream",
     "text": [
      "['1' '2' '3' '4' '5' '6']\n",
      "['1' '2' '3' '4']\n",
      "['1' '2' '3' '4']\n",
      "['no' 'yes']\n",
      "['no' 'yes']\n",
      "['no' 'yes']\n",
      "['no' 'yes']\n",
      "['no' 'yes']\n",
      "['0' '1' '2' '3']\n",
      "['no' 'yes']\n"
     ]
    }
   ],
   "source": [
    "print(np.unique(housing['bedrooms']))\n",
    "print(np.unique(housing['bathrms']))\n",
    "print(np.unique(housing['stories']))\n",
    "print(np.unique(housing['driveway']))\n",
    "print(np.unique(housing['recroom']))\n",
    "print(np.unique(housing['fullbase']))\n",
    "print(np.unique(housing['gashw']))\n",
    "print(np.unique(housing['airco']))\n",
    "print(np.unique(housing['garagepl']))\n",
    "print(np.unique(housing['prefarea']))"
   ]
  },
  {
   "cell_type": "code",
   "execution_count": 17,
   "metadata": {},
   "outputs": [],
   "source": [
    "housing = housing.replace('no', 0)\n",
    "\n"
   ]
  },
  {
   "cell_type": "code",
   "execution_count": 18,
   "metadata": {},
   "outputs": [],
   "source": [
    "housing = housing.replace('yes', 1)"
   ]
  },
  {
   "cell_type": "code",
   "execution_count": 19,
   "metadata": {},
   "outputs": [
    {
     "name": "stdout",
     "output_type": "stream",
     "text": [
      "      price lotsize bedrooms bathrms stories  driveway  recroom  fullbase  \\\n",
      "1     42000    5850        3       1       2         1        0         1   \n",
      "2     38500    4000        2       1       1         1        0         0   \n",
      "3     49500    3060        3       1       1         1        0         0   \n",
      "4     60500    6650        3       1       2         1        1         0   \n",
      "5     61000    6360        2       1       1         1        0         0   \n",
      "..      ...     ...      ...     ...     ...       ...      ...       ...   \n",
      "542   91500    4800        3       2       4         1        1         0   \n",
      "543   94000    6000        3       2       4         1        0         0   \n",
      "544  103000    6000        3       2       4         1        1         0   \n",
      "545  105000    6000        3       2       2         1        1         0   \n",
      "546  105000    6000        3       1       2         1        0         0   \n",
      "\n",
      "     gashw  airco garagepl  prefarea  \n",
      "1        0      0        1         0  \n",
      "2        0      0        0         0  \n",
      "3        0      0        0         0  \n",
      "4        0      0        0         0  \n",
      "5        0      0        0         0  \n",
      "..     ...    ...      ...       ...  \n",
      "542      0      1        0         0  \n",
      "543      0      1        0         0  \n",
      "544      0      1        1         0  \n",
      "545      0      1        1         0  \n",
      "546      0      1        1         0  \n",
      "\n",
      "[546 rows x 12 columns]\n"
     ]
    }
   ],
   "source": [
    "print(housing)"
   ]
  },
  {
   "cell_type": "code",
   "execution_count": 21,
   "metadata": {},
   "outputs": [
    {
     "name": "stdout",
     "output_type": "stream",
     "text": [
      "    price lotsize bedrooms bathrms stories  driveway  recroom  fullbase  \\\n",
      "1   42000    5850        3       1       2         1        0         1   \n",
      "2   38500    4000        2       1       1         1        0         0   \n",
      "3   49500    3060        3       1       1         1        0         0   \n",
      "4   60500    6650        3       1       2         1        1         0   \n",
      "5   61000    6360        2       1       1         1        0         0   \n",
      "6   66000    4160        3       1       1         1        1         1   \n",
      "\n",
      "   gashw  airco garagepl  prefarea  \n",
      "1      0      0        1         0  \n",
      "2      0      0        0         0  \n",
      "3      0      0        0         0  \n",
      "4      0      0        0         0  \n",
      "5      0      0        0         0  \n",
      "6      0      1        0         0  \n"
     ]
    }
   ],
   "source": [
    "print(housing.iloc[ :6, : ])"
   ]
  },
  {
   "cell_type": "code",
   "execution_count": 39,
   "metadata": {},
   "outputs": [
    {
     "name": "stderr",
     "output_type": "stream",
     "text": [
      "c:\\Users\\mingz\\AppData\\Local\\Programs\\Python\\Python310\\lib\\site-packages\\statsmodels\\stats\\correlation_tools.py:90: IterationLimitWarning: \n",
      "Maximum iteration reached.\n",
      "\n",
      "  warnings.warn(iteration_limit_doc, IterationLimitWarning)\n"
     ]
    },
    {
     "data": {
      "image/png": "[encoded data removed]",
      "text/plain": [
       "<Figure size 432x288 with 2 Axes>"
      ]
     },
     "metadata": {
      "needs_background": "light"
     },
     "output_type": "display_data"
    }
   ],
   "source": [
    "from latentcor import latentcor, get_tps\n",
    "estimate_housing = latentcor(housing, tps = [\"con\", \"con\", \"con\", \"con\",\n",
    "                  \"con\", \"bin\", \"bin\", \"bin\", \"bin\", \"bin\", \"tru\", \"bin\"], showplot = True)"
   ]
  },
  {
   "cell_type": "code",
   "execution_count": 40,
   "metadata": {},
   "outputs": [
    {
     "name": "stdout",
     "output_type": "stream",
     "text": [
      "ordinal levels between 4 and 10 will be approximated by either countinuous or truncated type.\n",
      "ordinal levels between 4 and 10 will be approximated by either countinuous or truncated type.\n",
      "ordinal levels between 4 and 10 will be approximated by either countinuous or truncated type.\n",
      "ordinal levels between 4 and 10 will be approximated by either countinuous or truncated type.\n"
     ]
    },
    {
     "data": {
      "text/plain": [
       "array(['con', 'con', 'con', 'con', 'con', 'bin', 'bin', 'bin', 'bin',\n",
       "       'bin', 'tru', 'bin'], dtype='<U3')"
      ]
     },
     "execution_count": 40,
     "metadata": {},
     "output_type": "execute_result"
    }
   ],
   "source": [
    "get_tps(housing)"
   ]
  },
  {
   "cell_type": "code",
   "execution_count": 27,
   "metadata": {},
   "outputs": [
    {
     "data": {
      "text/plain": [
       "Text(0.5, 1.0, 'Histogram of garagepl')"
      ]
     },
     "execution_count": 27,
     "metadata": {},
     "output_type": "execute_result"
    },
    {
     "data": {
      "image/png": "[encoded data removed]",
      "text/plain": [
       "<Figure size 432x288 with 1 Axes>"
      ]
     },
     "metadata": {
      "needs_background": "light"
     },
     "output_type": "display_data"
    }
   ],
   "source": [
    "import matplotlib.pyplot as plt\n",
    "plt.hist(np.sort(housing['garagepl']))\n",
    "plt.title('Histogram of garagepl')"
   ]
  },
  {
   "cell_type": "code",
   "execution_count": 41,
   "metadata": {},
   "outputs": [
    {
     "data": {
      "text/plain": [
       "5"
      ]
     },
     "execution_count": 41,
     "metadata": {},
     "output_type": "execute_result"
    }
   ],
   "source": [
    "len(estimate_housing)"
   ]
  },
  {
   "cell_type": "code",
   "execution_count": 42,
   "metadata": {},
   "outputs": [
    {
     "data": {
      "text/plain": [
       "array([[       nan,        nan,        nan,        nan,        nan,\n",
       "        0.14102564, 0.82234432, 0.65018315, 0.95421245, 0.68315018,\n",
       "        0.54945055, 0.76556777],\n",
       "       [       nan,        nan,        nan,        nan,        nan,\n",
       "               nan,        nan,        nan,        nan,        nan,\n",
       "               nan,        nan]])"
      ]
     },
     "execution_count": 42,
     "metadata": {},
     "output_type": "execute_result"
    }
   ],
   "source": [
    "estimate_housing[4]"
   ]
  },
  {
   "cell_type": "code",
   "execution_count": 43,
   "metadata": {},
   "outputs": [
    {
     "data": {
      "text/plain": [
       "array([[ 1.   ,  0.42 ,  0.238,  0.247,  0.227,  0.137,  0.132,  0.126,\n",
       "         0.021,  0.247,  0.218,  0.17 ],\n",
       "       [ 0.42 ,  1.   ,  0.105,  0.11 ,  0.038,  0.135,  0.093,  0.035,\n",
       "        -0.003,  0.153,  0.213,  0.121],\n",
       "       [ 0.238,  0.105,  1.   ,  0.174,  0.277, -0.002,  0.036,  0.051,\n",
       "         0.008,  0.088,  0.079,  0.044],\n",
       "       [ 0.247,  0.11 ,  0.174,  1.   ,  0.144,  0.015,  0.046,  0.046,\n",
       "         0.013,  0.084,  0.081,  0.029],\n",
       "       [ 0.227,  0.038,  0.277,  0.144,  1.   ,  0.036,  0.012, -0.068,\n",
       "         0.01 ,  0.118,  0.009,  0.018],\n",
       "       [ 0.137,  0.135, -0.002,  0.015,  0.036,  1.   ,  0.025,  0.014,\n",
       "        -0.002,  0.034,  0.071,  0.059],\n",
       "       [ 0.132,  0.093,  0.036,  0.046,  0.012,  0.025,  1.   ,  0.136,\n",
       "        -0.002,  0.049,  0.02 ,  0.052],\n",
       "       [ 0.126,  0.035,  0.051,  0.046, -0.068,  0.014,  0.136,  1.   ,\n",
       "         0.001,  0.02 ,  0.024,  0.093],\n",
       "       [ 0.021, -0.003,  0.008,  0.013,  0.01 , -0.002, -0.002,  0.001,\n",
       "         1.   , -0.025,  0.018, -0.01 ],\n",
       "       [ 0.247,  0.153,  0.088,  0.084,  0.118,  0.034,  0.049,  0.02 ,\n",
       "        -0.025,  1.   ,  0.076,  0.046],\n",
       "       [ 0.218,  0.213,  0.079,  0.081,  0.009,  0.071,  0.02 ,  0.024,\n",
       "         0.018,  0.076,  1.   ,  0.04 ],\n",
       "       [ 0.17 ,  0.121,  0.044,  0.029,  0.018,  0.059,  0.052,  0.093,\n",
       "        -0.01 ,  0.046,  0.04 ,  1.   ]], dtype=float32)"
      ]
     },
     "execution_count": 43,
     "metadata": {},
     "output_type": "execute_result"
    }
   ],
   "source": [
    "np.round(estimate_housing[3], decimals=3)"
   ]
  },
  {
   "cell_type": "code",
   "execution_count": 44,
   "metadata": {},
   "outputs": [
    {
     "data": {
      "text/plain": [
       "array([[ 1.   ,  0.612,  0.365,  0.378,  0.349,  0.546,  0.449,  0.299,\n",
       "         0.191,  0.599,  0.411,  0.486],\n",
       "       [ 0.612,  1.   ,  0.164,  0.172,  0.06 ,  0.537,  0.315,  0.083,\n",
       "        -0.031,  0.378,  0.402,  0.347],\n",
       "       [ 0.365,  0.164,  1.   ,  0.27 ,  0.421, -0.006,  0.122,  0.121,\n",
       "         0.073,  0.218,  0.152,  0.128],\n",
       "       [ 0.378,  0.172,  0.27 ,  1.   ,  0.224,  0.06 ,  0.155,  0.111,\n",
       "         0.118,  0.208,  0.155,  0.084],\n",
       "       [ 0.349,  0.06 ,  0.421,  0.224,  1.   ,  0.144,  0.042, -0.162,\n",
       "         0.094,  0.292,  0.017,  0.053],\n",
       "       [ 0.546,  0.537, -0.006,  0.06 ,  0.144,  1.   ,  0.757,  0.299,\n",
       "        -0.502,  0.647,  0.287,  0.989],\n",
       "       [ 0.449,  0.315,  0.122,  0.155,  0.042,  0.757,  1.   ,  0.833,\n",
       "        -0.05 ,  0.37 ,  0.132,  0.357],\n",
       "       [ 0.299,  0.083,  0.121,  0.111, -0.162,  0.299,  0.833,  1.   ,\n",
       "         0.026,  0.08 ,  0.078,  0.47 ],\n",
       "       [ 0.191, -0.031,  0.073,  0.118,  0.094, -0.502, -0.05 ,  0.026,\n",
       "         1.   , -0.838,  0.513, -0.853],\n",
       "       [ 0.599,  0.378,  0.218,  0.208,  0.292,  0.647,  0.37 ,  0.08 ,\n",
       "        -0.838,  1.   ,  0.266,  0.235],\n",
       "       [ 0.411,  0.402,  0.152,  0.155,  0.017,  0.287,  0.132,  0.078,\n",
       "         0.513,  0.266,  1.   ,  0.189],\n",
       "       [ 0.486,  0.347,  0.128,  0.084,  0.053,  0.989,  0.357,  0.47 ,\n",
       "        -0.853,  0.235,  0.189,  1.   ]], dtype=float32)"
      ]
     },
     "execution_count": 44,
     "metadata": {},
     "output_type": "execute_result"
    }
   ],
   "source": [
    "np.round(estimate_housing[1], decimals=3)"
   ]
  },
  {
   "cell_type": "code",
   "execution_count": 45,
   "metadata": {},
   "outputs": [
    {
     "data": {
      "text/plain": [
       "array([[ 1.   ,  0.613,  0.366,  0.382,  0.362,  0.551,  0.463,  0.307,\n",
       "         0.071,  0.513,  0.456,  0.406],\n",
       "       [ 0.613,  1.   ,  0.163,  0.171,  0.06 ,  0.53 ,  0.319,  0.08 ,\n",
       "        -0.032,  0.377,  0.403,  0.35 ],\n",
       "       [ 0.366,  0.163,  1.   ,  0.271,  0.42 ,  0.016,  0.109,  0.13 ,\n",
       "         0.066,  0.211,  0.152,  0.108],\n",
       "       [ 0.382,  0.171,  0.271,  1.   ,  0.225,  0.069,  0.151,  0.116,\n",
       "         0.106,  0.198,  0.159,  0.07 ],\n",
       "       [ 0.362,  0.06 ,  0.42 ,  0.225,  1.   ,  0.14 ,  0.05 , -0.162,\n",
       "         0.058,  0.267,  0.031,  0.034],\n",
       "       [ 0.551,  0.53 ,  0.016,  0.069,  0.14 ,  1.   ,  0.655,  0.368,\n",
       "        -0.526,  0.612,  0.278,  0.858],\n",
       "       [ 0.463,  0.319,  0.109,  0.151,  0.05 ,  0.655,  1.   ,  0.791,\n",
       "        -0.081,  0.357,  0.155,  0.408],\n",
       "       [ 0.307,  0.08 ,  0.13 ,  0.116, -0.162,  0.368,  0.791,  1.   ,\n",
       "         0.   ,  0.055,  0.08 ,  0.404],\n",
       "       [ 0.071, -0.032,  0.066,  0.106,  0.058, -0.526, -0.081,  0.   ,\n",
       "         1.   , -0.605,  0.391, -0.63 ],\n",
       "       [ 0.513,  0.377,  0.211,  0.198,  0.267,  0.612,  0.357,  0.055,\n",
       "        -0.605,  1.   ,  0.18 ,  0.404],\n",
       "       [ 0.456,  0.403,  0.152,  0.159,  0.031,  0.278,  0.155,  0.08 ,\n",
       "         0.391,  0.18 ,  1.   ,  0.118],\n",
       "       [ 0.406,  0.35 ,  0.108,  0.07 ,  0.034,  0.858,  0.408,  0.404,\n",
       "        -0.63 ,  0.404,  0.118,  1.   ]])"
      ]
     },
     "execution_count": 45,
     "metadata": {},
     "output_type": "execute_result"
    }
   ],
   "source": [
    "np.round(estimate_housing[0], decimals=3)"
   ]
  },
  {
   "cell_type": "code",
   "execution_count": 50,
   "metadata": {},
   "outputs": [],
   "source": [
    "estimate_housing[2]\n",
    "plt.show()"
   ]
  }
 ],
 "metadata": {
  "kernelspec": {
   "display_name": "Python 3.10.4 64-bit",
   "language": "python",
   "name": "python3"
  },
  "language_info": {
   "codemirror_mode": {
    "name": "ipython",
    "version": 3
   },
   "file_extension": ".py",
   "mimetype": "text/x-python",
   "name": "python",
   "nbconvert_exporter": "python",
   "pygments_lexer": "ipython3",
   "version": "3.10.6"
  },
  "orig_nbformat": 4,
  "vscode": {
   "interpreter": {
    "hash": "62b37a07cc0dcae468f3901e1e950767af5d3ba007d2029f8a2d39cb80929972"
   }
  }
 },
 "nbformat": 4,
 "nbformat_minor": 2
}
